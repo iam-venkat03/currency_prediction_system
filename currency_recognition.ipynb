{
  "nbformat": 4,
  "nbformat_minor": 0,
  "metadata": {
    "colab": {
      "name": "currency_recognition.ipynb",
      "provenance": []
    },
    "kernelspec": {
      "name": "python3",
      "display_name": "Python 3"
    },
    "accelerator": "GPU"
  },
  "cells": [
    {
      "cell_type": "code",
      "metadata": {
        "id": "0SJ0c7y_2CJa",
        "colab_type": "code",
        "colab": {}
      },
      "source": [
        "from keras.layers import Input,Lambda,Dense,Flatten\n",
        "from keras.models import Model,Sequential,load_model\n",
        "from keras.applications.vgg16 import VGG16 ,preprocess_input\n",
        "from keras.preprocessing import image\n",
        "from keras.preprocessing.image import ImageDataGenerator\n",
        "from glob import glob\n",
        "import numpy as np\n",
        "import pandas as pd\n",
        "import tensorflow as tf"
      ],
      "execution_count": 2,
      "outputs": []
    },
    {
      "cell_type": "code",
      "metadata": {
        "id": "5yZDqeaC2huu",
        "colab_type": "code",
        "colab": {}
      },
      "source": [
        "Image_size=[224,224]\n",
        "\n",
        "train_path='/content/drive/My Drive/currency_dataset/training'\n",
        "test_path='/content/drive/My Drive/currency_dataset/validation'"
      ],
      "execution_count": 3,
      "outputs": []
    },
    {
      "cell_type": "code",
      "metadata": {
        "id": "wNXD9Oko2uxC",
        "colab_type": "code",
        "colab": {}
      },
      "source": [
        "vgg = VGG16(input_shape=Image_size+[3],weights='imagenet',include_top=False)\n",
        "\n",
        "for layer in vgg.layers:\n",
        "    layer.trainable=False\n",
        "\n",
        "\n",
        "\n",
        "x=Flatten()(vgg.output)\n",
        "\n",
        "first=Dense(2048,activation='relu')(x)\n",
        "second=Dense(256,activation='relu')(first)\n",
        "prediction = Dense(11,activation='softmax')(second)"
      ],
      "execution_count": 5,
      "outputs": []
    },
    {
      "cell_type": "code",
      "metadata": {
        "id": "QLM59b4620gM",
        "colab_type": "code",
        "colab": {
          "base_uri": "https://localhost:8080/",
          "height": 924
        },
        "outputId": "91154864-a476-4e48-8c32-73d5cd54b602"
      },
      "source": [
        "model=Model(inputs=vgg.input,outputs=prediction)\n",
        "\n",
        "model.summary()\n",
        "\n",
        "model.compile(\n",
        "loss='categorical_crossentropy',\n",
        "optimizer='adam',\n",
        "metrics=['accuracy']\n",
        ")"
      ],
      "execution_count": 6,
      "outputs": [
        {
          "output_type": "stream",
          "text": [
            "Model: \"functional_1\"\n",
            "_________________________________________________________________\n",
            "Layer (type)                 Output Shape              Param #   \n",
            "=================================================================\n",
            "input_2 (InputLayer)         [(None, 224, 224, 3)]     0         \n",
            "_________________________________________________________________\n",
            "block1_conv1 (Conv2D)        (None, 224, 224, 64)      1792      \n",
            "_________________________________________________________________\n",
            "block1_conv2 (Conv2D)        (None, 224, 224, 64)      36928     \n",
            "_________________________________________________________________\n",
            "block1_pool (MaxPooling2D)   (None, 112, 112, 64)      0         \n",
            "_________________________________________________________________\n",
            "block2_conv1 (Conv2D)        (None, 112, 112, 128)     73856     \n",
            "_________________________________________________________________\n",
            "block2_conv2 (Conv2D)        (None, 112, 112, 128)     147584    \n",
            "_________________________________________________________________\n",
            "block2_pool (MaxPooling2D)   (None, 56, 56, 128)       0         \n",
            "_________________________________________________________________\n",
            "block3_conv1 (Conv2D)        (None, 56, 56, 256)       295168    \n",
            "_________________________________________________________________\n",
            "block3_conv2 (Conv2D)        (None, 56, 56, 256)       590080    \n",
            "_________________________________________________________________\n",
            "block3_conv3 (Conv2D)        (None, 56, 56, 256)       590080    \n",
            "_________________________________________________________________\n",
            "block3_pool (MaxPooling2D)   (None, 28, 28, 256)       0         \n",
            "_________________________________________________________________\n",
            "block4_conv1 (Conv2D)        (None, 28, 28, 512)       1180160   \n",
            "_________________________________________________________________\n",
            "block4_conv2 (Conv2D)        (None, 28, 28, 512)       2359808   \n",
            "_________________________________________________________________\n",
            "block4_conv3 (Conv2D)        (None, 28, 28, 512)       2359808   \n",
            "_________________________________________________________________\n",
            "block4_pool (MaxPooling2D)   (None, 14, 14, 512)       0         \n",
            "_________________________________________________________________\n",
            "block5_conv1 (Conv2D)        (None, 14, 14, 512)       2359808   \n",
            "_________________________________________________________________\n",
            "block5_conv2 (Conv2D)        (None, 14, 14, 512)       2359808   \n",
            "_________________________________________________________________\n",
            "block5_conv3 (Conv2D)        (None, 14, 14, 512)       2359808   \n",
            "_________________________________________________________________\n",
            "block5_pool (MaxPooling2D)   (None, 7, 7, 512)         0         \n",
            "_________________________________________________________________\n",
            "flatten_1 (Flatten)          (None, 25088)             0         \n",
            "_________________________________________________________________\n",
            "dense_3 (Dense)              (None, 2048)              51382272  \n",
            "_________________________________________________________________\n",
            "dense_4 (Dense)              (None, 256)               524544    \n",
            "_________________________________________________________________\n",
            "dense_5 (Dense)              (None, 11)                2827      \n",
            "=================================================================\n",
            "Total params: 66,624,331\n",
            "Trainable params: 51,909,643\n",
            "Non-trainable params: 14,714,688\n",
            "_________________________________________________________________\n"
          ],
          "name": "stdout"
        }
      ]
    },
    {
      "cell_type": "code",
      "metadata": {
        "id": "WG77oApk287U",
        "colab_type": "code",
        "colab": {}
      },
      "source": [
        "train_datagen=ImageDataGenerator(rescale=1./255,\n",
        "                                shear_range=.2,\n",
        "                                zoom_range=.1,\n",
        "                                 horizontal_flip=True\n",
        "                                )\n",
        "test_datagen=ImageDataGenerator(rescale=1./255)"
      ],
      "execution_count": 8,
      "outputs": []
    },
    {
      "cell_type": "code",
      "metadata": {
        "id": "hTIVoMAJ2_mm",
        "colab_type": "code",
        "colab": {
          "base_uri": "https://localhost:8080/",
          "height": 50
        },
        "outputId": "19f75356-b669-4d91-f76f-710a3a17bd6b"
      },
      "source": [
        "train_set=train_datagen.flow_from_directory(train_path,\n",
        "                                            target_size = (224, 224),\n",
        "                                            batch_size = 32,\n",
        "                                            class_mode = 'categorical')\n",
        "\n",
        "test_set=test_datagen.flow_from_directory(test_path,\n",
        "                                            target_size = (224, 224),\n",
        "                                            batch_size = 32,\n",
        "                                            class_mode = 'categorical')"
      ],
      "execution_count": 9,
      "outputs": [
        {
          "output_type": "stream",
          "text": [
            "Found 1301 images belonging to 11 classes.\n",
            "Found 237 images belonging to 11 classes.\n"
          ],
          "name": "stdout"
        }
      ]
    },
    {
      "cell_type": "code",
      "metadata": {
        "id": "3_DxRsTs3B0o",
        "colab_type": "code",
        "colab": {
          "base_uri": "https://localhost:8080/",
          "height": 689
        },
        "outputId": "32d0bdab-44d6-4aaf-d9d3-e241f374b56a"
      },
      "source": [
        "model1=model.fit(train_set,validation_data=test_set,shuffle=True,epochs=20,steps_per_epoch=len(train_set),\n",
        "  validation_steps=len(test_set))"
      ],
      "execution_count": 10,
      "outputs": [
        {
          "output_type": "stream",
          "text": [
            "Epoch 1/20\n",
            "41/41 [==============================] - 965s 24s/step - loss: 4.2740 - accuracy: 0.2244 - val_loss: 1.5820 - val_accuracy: 0.4515\n",
            "Epoch 2/20\n",
            "41/41 [==============================] - 40s 984ms/step - loss: 1.1882 - accuracy: 0.6057 - val_loss: 0.8811 - val_accuracy: 0.7553\n",
            "Epoch 3/20\n",
            "41/41 [==============================] - 39s 959ms/step - loss: 0.6619 - accuracy: 0.8109 - val_loss: 0.6537 - val_accuracy: 0.8228\n",
            "Epoch 4/20\n",
            "41/41 [==============================] - 40s 970ms/step - loss: 0.4353 - accuracy: 0.8786 - val_loss: 0.4628 - val_accuracy: 0.8903\n",
            "Epoch 5/20\n",
            "41/41 [==============================] - 39s 958ms/step - loss: 0.3097 - accuracy: 0.9162 - val_loss: 0.3868 - val_accuracy: 0.9114\n",
            "Epoch 6/20\n",
            "41/41 [==============================] - 39s 954ms/step - loss: 0.2130 - accuracy: 0.9470 - val_loss: 0.3757 - val_accuracy: 0.9114\n",
            "Epoch 7/20\n",
            "41/41 [==============================] - 39s 950ms/step - loss: 0.2141 - accuracy: 0.9454 - val_loss: 0.3587 - val_accuracy: 0.9325\n",
            "Epoch 8/20\n",
            "41/41 [==============================] - 39s 953ms/step - loss: 0.1082 - accuracy: 0.9700 - val_loss: 0.3253 - val_accuracy: 0.9325\n",
            "Epoch 9/20\n",
            "41/41 [==============================] - 40s 972ms/step - loss: 0.1011 - accuracy: 0.9785 - val_loss: 0.2573 - val_accuracy: 0.9409\n",
            "Epoch 10/20\n",
            "41/41 [==============================] - 40s 979ms/step - loss: 0.0471 - accuracy: 0.9939 - val_loss: 0.2147 - val_accuracy: 0.9620\n",
            "Epoch 11/20\n",
            "41/41 [==============================] - 39s 962ms/step - loss: 0.0441 - accuracy: 0.9931 - val_loss: 0.2560 - val_accuracy: 0.9409\n",
            "Epoch 12/20\n",
            "41/41 [==============================] - 39s 954ms/step - loss: 0.0549 - accuracy: 0.9877 - val_loss: 0.2871 - val_accuracy: 0.9536\n",
            "Epoch 13/20\n",
            "41/41 [==============================] - 39s 954ms/step - loss: 0.0357 - accuracy: 0.9931 - val_loss: 0.2824 - val_accuracy: 0.9662\n",
            "Epoch 14/20\n",
            "41/41 [==============================] - 40s 966ms/step - loss: 0.0314 - accuracy: 0.9923 - val_loss: 0.2294 - val_accuracy: 0.9620\n",
            "Epoch 15/20\n",
            "41/41 [==============================] - 40s 964ms/step - loss: 0.0280 - accuracy: 0.9939 - val_loss: 0.2799 - val_accuracy: 0.9578\n",
            "Epoch 16/20\n",
            "41/41 [==============================] - 39s 960ms/step - loss: 0.0321 - accuracy: 0.9946 - val_loss: 0.2615 - val_accuracy: 0.9620\n",
            "Epoch 17/20\n",
            "41/41 [==============================] - 40s 976ms/step - loss: 0.0460 - accuracy: 0.9900 - val_loss: 0.2725 - val_accuracy: 0.9620\n",
            "Epoch 18/20\n",
            "41/41 [==============================] - 40s 967ms/step - loss: 0.0202 - accuracy: 0.9962 - val_loss: 0.2502 - val_accuracy: 0.9578\n",
            "Epoch 19/20\n",
            "41/41 [==============================] - 40s 966ms/step - loss: 0.0360 - accuracy: 0.9869 - val_loss: 0.4257 - val_accuracy: 0.9241\n",
            "Epoch 20/20\n",
            "41/41 [==============================] - 39s 949ms/step - loss: 0.0494 - accuracy: 0.9823 - val_loss: 0.3181 - val_accuracy: 0.9578\n"
          ],
          "name": "stdout"
        }
      ]
    },
    {
      "cell_type": "code",
      "metadata": {
        "id": "z6xuVEo73FQ3",
        "colab_type": "code",
        "colab": {
          "base_uri": "https://localhost:8080/",
          "height": 346
        },
        "outputId": "f9788039-39e7-4418-a96b-103e0e198234"
      },
      "source": [
        "from keras.preprocessing.image import load_img\n",
        "\n",
        "\n",
        "def preprocess_img(img):\n",
        "    \n",
        "    img=image.load_img(img,target_size=(224,224))\n",
        "    \n",
        "    img=image.img_to_array(img)\n",
        "    \n",
        "    img=np.expand_dims(img,axis=0)\n",
        "    \n",
        "    # normalisation\n",
        "    \n",
        "    img=preprocess_input(img)\n",
        "    \n",
        "    return img\n",
        "\n",
        "img=preprocess_img(\"/content/drive/My Drive/currency_dataset/validation/200/44.jpg\")\n",
        "\n",
        "label=model.predict(img)\n",
        "print(label)\n",
        "print(label.argmax())"
      ],
      "execution_count": 1,
      "outputs": [
        {
          "output_type": "error",
          "ename": "NameError",
          "evalue": "ignored",
          "traceback": [
            "\u001b[0;31m---------------------------------------------------------------------------\u001b[0m",
            "\u001b[0;31mNameError\u001b[0m                                 Traceback (most recent call last)",
            "\u001b[0;32m<ipython-input-1-bc75ae5d2cc8>\u001b[0m in \u001b[0;36m<module>\u001b[0;34m()\u001b[0m\n\u001b[1;32m     16\u001b[0m     \u001b[0;32mreturn\u001b[0m \u001b[0mimg\u001b[0m\u001b[0;34m\u001b[0m\u001b[0;34m\u001b[0m\u001b[0m\n\u001b[1;32m     17\u001b[0m \u001b[0;34m\u001b[0m\u001b[0m\n\u001b[0;32m---> 18\u001b[0;31m \u001b[0mimg\u001b[0m\u001b[0;34m=\u001b[0m\u001b[0mpreprocess_img\u001b[0m\u001b[0;34m(\u001b[0m\u001b[0;34m\"/content/drive/My Drive/currency_dataset/validation/200/44.jpg\"\u001b[0m\u001b[0;34m)\u001b[0m\u001b[0;34m\u001b[0m\u001b[0;34m\u001b[0m\u001b[0m\n\u001b[0m\u001b[1;32m     19\u001b[0m \u001b[0;34m\u001b[0m\u001b[0m\n\u001b[1;32m     20\u001b[0m \u001b[0mlabel\u001b[0m\u001b[0;34m=\u001b[0m\u001b[0mmodel\u001b[0m\u001b[0;34m.\u001b[0m\u001b[0mpredict\u001b[0m\u001b[0;34m(\u001b[0m\u001b[0mimg\u001b[0m\u001b[0;34m)\u001b[0m\u001b[0;34m\u001b[0m\u001b[0;34m\u001b[0m\u001b[0m\n",
            "\u001b[0;32m<ipython-input-1-bc75ae5d2cc8>\u001b[0m in \u001b[0;36mpreprocess_img\u001b[0;34m(img)\u001b[0m\n\u001b[1;32m      4\u001b[0m \u001b[0;32mdef\u001b[0m \u001b[0mpreprocess_img\u001b[0m\u001b[0;34m(\u001b[0m\u001b[0mimg\u001b[0m\u001b[0;34m)\u001b[0m\u001b[0;34m:\u001b[0m\u001b[0;34m\u001b[0m\u001b[0;34m\u001b[0m\u001b[0m\n\u001b[1;32m      5\u001b[0m \u001b[0;34m\u001b[0m\u001b[0m\n\u001b[0;32m----> 6\u001b[0;31m     \u001b[0mimg\u001b[0m\u001b[0;34m=\u001b[0m\u001b[0mimage\u001b[0m\u001b[0;34m.\u001b[0m\u001b[0mload_img\u001b[0m\u001b[0;34m(\u001b[0m\u001b[0mimg\u001b[0m\u001b[0;34m,\u001b[0m\u001b[0mtarget_size\u001b[0m\u001b[0;34m=\u001b[0m\u001b[0;34m(\u001b[0m\u001b[0;36m224\u001b[0m\u001b[0;34m,\u001b[0m\u001b[0;36m224\u001b[0m\u001b[0;34m)\u001b[0m\u001b[0;34m)\u001b[0m\u001b[0;34m\u001b[0m\u001b[0;34m\u001b[0m\u001b[0m\n\u001b[0m\u001b[1;32m      7\u001b[0m \u001b[0;34m\u001b[0m\u001b[0m\n\u001b[1;32m      8\u001b[0m     \u001b[0mimg\u001b[0m\u001b[0;34m=\u001b[0m\u001b[0mimage\u001b[0m\u001b[0;34m.\u001b[0m\u001b[0mimg_to_array\u001b[0m\u001b[0;34m(\u001b[0m\u001b[0mimg\u001b[0m\u001b[0;34m)\u001b[0m\u001b[0;34m\u001b[0m\u001b[0;34m\u001b[0m\u001b[0m\n",
            "\u001b[0;31mNameError\u001b[0m: name 'image' is not defined"
          ]
        }
      ]
    },
    {
      "cell_type": "code",
      "metadata": {
        "id": "A6phXOBJ6K0I",
        "colab_type": "code",
        "colab": {
          "base_uri": "https://localhost:8080/",
          "height": 202
        },
        "outputId": "38964582-0999-43d2-887c-6e0392077be0"
      },
      "source": [
        "test_set.class_indices"
      ],
      "execution_count": 12,
      "outputs": [
        {
          "output_type": "execute_result",
          "data": {
            "text/plain": [
              "{'1': 0,\n",
              " '10': 1,\n",
              " '100': 2,\n",
              " '1000': 3,\n",
              " '2': 4,\n",
              " '20': 5,\n",
              " '200': 6,\n",
              " '2000': 7,\n",
              " '5': 8,\n",
              " '50': 9,\n",
              " '500': 10}"
            ]
          },
          "metadata": {
            "tags": []
          },
          "execution_count": 12
        }
      ]
    },
    {
      "cell_type": "code",
      "metadata": {
        "id": "rqos3dxcu9-d",
        "colab_type": "code",
        "colab": {}
      },
      "source": [
        "model.save('./currency_recog.h5')\n"
      ],
      "execution_count": 64,
      "outputs": []
    },
    {
      "cell_type": "code",
      "metadata": {
        "id": "p-OyVh9b6gYW",
        "colab_type": "code",
        "colab": {
          "base_uri": "https://localhost:8080/",
          "height": 162
        },
        "outputId": "d1ce9697-fb26-4969-bb17-555e54498595"
      },
      "source": [
        "model=load_model('./currency_recog.h5')\n"
      ],
      "execution_count": 2,
      "outputs": [
        {
          "output_type": "error",
          "ename": "NameError",
          "evalue": "ignored",
          "traceback": [
            "\u001b[0;31m---------------------------------------------------------------------------\u001b[0m",
            "\u001b[0;31mNameError\u001b[0m                                 Traceback (most recent call last)",
            "\u001b[0;32m<ipython-input-2-eaf13ca04825>\u001b[0m in \u001b[0;36m<module>\u001b[0;34m()\u001b[0m\n\u001b[0;32m----> 1\u001b[0;31m \u001b[0mmodel\u001b[0m\u001b[0;34m=\u001b[0m\u001b[0mload_model\u001b[0m\u001b[0;34m(\u001b[0m\u001b[0;34m'./currency_recog.h5'\u001b[0m\u001b[0;34m)\u001b[0m\u001b[0;34m\u001b[0m\u001b[0;34m\u001b[0m\u001b[0m\n\u001b[0m",
            "\u001b[0;31mNameError\u001b[0m: name 'load_model' is not defined"
          ]
        }
      ]
    },
    {
      "cell_type": "code",
      "metadata": {
        "id": "_O_ZygBZuiOK",
        "colab_type": "code",
        "colab": {}
      },
      "source": [
        "model"
      ],
      "execution_count": null,
      "outputs": []
    }
  ]
}