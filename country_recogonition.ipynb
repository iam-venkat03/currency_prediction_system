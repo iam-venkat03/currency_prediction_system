{
 "cells": [
  {
   "cell_type": "code",
   "execution_count": 35,
   "metadata": {},
   "outputs": [],
   "source": [
    "from keras.layers import Input,Lambda,Dense,Flatten\n",
    "from keras.models import Model,Sequential,load_model\n",
    "from keras.applications.vgg16 import VGG16 ,preprocess_input\n",
    "from keras.preprocessing import image\n",
    "from keras.preprocessing.image import ImageDataGenerator\n",
    "from glob import glob\n",
    "import numpy as np\n",
    "import pandas as pd\n",
    "import tensorflow as tf"
   ]
  },
  {
   "cell_type": "code",
   "execution_count": 36,
   "metadata": {},
   "outputs": [],
   "source": [
    "Image_size=[224,224]\n",
    "\n",
    "train_path='C:/Users/ADMIN/Desktop/country detection currency/Training'\n",
    "test_path= 'C:/Users/ADMIN/Desktop/country detection currency/Testing'"
   ]
  },
  {
   "cell_type": "code",
   "execution_count": 37,
   "metadata": {},
   "outputs": [],
   "source": [
    "vgg = VGG16(input_shape=Image_size+[3],weights='imagenet',include_top=False)\n",
    "\n",
    "for layer in vgg.layers:\n",
    "    layer.trainable=False\n",
    "\n",
    "\n",
    "\n",
    "x=Flatten()(vgg.output)\n",
    "\n",
    "prediction = Dense(3,activation='softmax')(x)"
   ]
  },
  {
   "cell_type": "code",
   "execution_count": 38,
   "metadata": {},
   "outputs": [
    {
     "name": "stdout",
     "output_type": "stream",
     "text": [
      "Model: \"model_5\"\n",
      "_________________________________________________________________\n",
      "Layer (type)                 Output Shape              Param #   \n",
      "=================================================================\n",
      "input_6 (InputLayer)         [(None, 224, 224, 3)]     0         \n",
      "_________________________________________________________________\n",
      "block1_conv1 (Conv2D)        (None, 224, 224, 64)      1792      \n",
      "_________________________________________________________________\n",
      "block1_conv2 (Conv2D)        (None, 224, 224, 64)      36928     \n",
      "_________________________________________________________________\n",
      "block1_pool (MaxPooling2D)   (None, 112, 112, 64)      0         \n",
      "_________________________________________________________________\n",
      "block2_conv1 (Conv2D)        (None, 112, 112, 128)     73856     \n",
      "_________________________________________________________________\n",
      "block2_conv2 (Conv2D)        (None, 112, 112, 128)     147584    \n",
      "_________________________________________________________________\n",
      "block2_pool (MaxPooling2D)   (None, 56, 56, 128)       0         \n",
      "_________________________________________________________________\n",
      "block3_conv1 (Conv2D)        (None, 56, 56, 256)       295168    \n",
      "_________________________________________________________________\n",
      "block3_conv2 (Conv2D)        (None, 56, 56, 256)       590080    \n",
      "_________________________________________________________________\n",
      "block3_conv3 (Conv2D)        (None, 56, 56, 256)       590080    \n",
      "_________________________________________________________________\n",
      "block3_pool (MaxPooling2D)   (None, 28, 28, 256)       0         \n",
      "_________________________________________________________________\n",
      "block4_conv1 (Conv2D)        (None, 28, 28, 512)       1180160   \n",
      "_________________________________________________________________\n",
      "block4_conv2 (Conv2D)        (None, 28, 28, 512)       2359808   \n",
      "_________________________________________________________________\n",
      "block4_conv3 (Conv2D)        (None, 28, 28, 512)       2359808   \n",
      "_________________________________________________________________\n",
      "block4_pool (MaxPooling2D)   (None, 14, 14, 512)       0         \n",
      "_________________________________________________________________\n",
      "block5_conv1 (Conv2D)        (None, 14, 14, 512)       2359808   \n",
      "_________________________________________________________________\n",
      "block5_conv2 (Conv2D)        (None, 14, 14, 512)       2359808   \n",
      "_________________________________________________________________\n",
      "block5_conv3 (Conv2D)        (None, 14, 14, 512)       2359808   \n",
      "_________________________________________________________________\n",
      "block5_pool (MaxPooling2D)   (None, 7, 7, 512)         0         \n",
      "_________________________________________________________________\n",
      "flatten_5 (Flatten)          (None, 25088)             0         \n",
      "_________________________________________________________________\n",
      "dense_7 (Dense)              (None, 3)                 75267     \n",
      "=================================================================\n",
      "Total params: 14,789,955\n",
      "Trainable params: 75,267\n",
      "Non-trainable params: 14,714,688\n",
      "_________________________________________________________________\n"
     ]
    }
   ],
   "source": [
    "model=Model(inputs=vgg.input,outputs=prediction)\n",
    "\n",
    "model.summary()\n",
    "\n",
    "model.compile(\n",
    "loss='categorical_crossentropy',\n",
    "optimizer='adam',\n",
    "metrics=['accuracy']\n",
    ")"
   ]
  },
  {
   "cell_type": "code",
   "execution_count": 39,
   "metadata": {},
   "outputs": [],
   "source": [
    "train_datagen=ImageDataGenerator(rescale=1./255,\n",
    "                                shear_range=.2,\n",
    "                                zoom_range=.1,\n",
    "                                 horizontal_flip=True\n",
    "                                )\n",
    "test_datagen=ImageDataGenerator(rescale=1./255)"
   ]
  },
  {
   "cell_type": "code",
   "execution_count": 40,
   "metadata": {},
   "outputs": [
    {
     "name": "stdout",
     "output_type": "stream",
     "text": [
      "Found 529 images belonging to 3 classes.\n",
      "Found 87 images belonging to 3 classes.\n"
     ]
    }
   ],
   "source": [
    "train_set=train_datagen.flow_from_directory(train_path,\n",
    "                                            target_size = (224, 224),\n",
    "                                            batch_size = 32,\n",
    "                                            class_mode = 'categorical')\n",
    "\n",
    "test_set=test_datagen.flow_from_directory(test_path,\n",
    "                                            target_size = (224, 224),\n",
    "                                            batch_size = 32,\n",
    "                                            class_mode = 'categorical')"
   ]
  },
  {
   "cell_type": "code",
   "execution_count": 44,
   "metadata": {},
   "outputs": [
    {
     "name": "stdout",
     "output_type": "stream",
     "text": [
      "Epoch 1/20\n",
      "17/17 [==============================] - 145s 9s/step - loss: 0.3004 - accuracy: 0.8885 - val_loss: 0.1586 - val_accuracy: 0.9195\n",
      "Epoch 2/20\n",
      "17/17 [==============================] - 142s 8s/step - loss: 0.1174 - accuracy: 0.9660 - val_loss: 0.0768 - val_accuracy: 0.9655\n",
      "Epoch 3/20\n",
      "17/17 [==============================] - 141s 8s/step - loss: 0.0662 - accuracy: 0.9830 - val_loss: 0.0577 - val_accuracy: 0.9655\n",
      "Epoch 4/20\n",
      "17/17 [==============================] - 142s 8s/step - loss: 0.0407 - accuracy: 0.9924 - val_loss: 0.0374 - val_accuracy: 0.9885\n",
      "Epoch 5/20\n",
      "17/17 [==============================] - 144s 8s/step - loss: 0.0310 - accuracy: 0.9943 - val_loss: 0.0511 - val_accuracy: 0.9770\n",
      "Epoch 6/20\n",
      "17/17 [==============================] - 142s 8s/step - loss: 0.0242 - accuracy: 1.0000 - val_loss: 0.0623 - val_accuracy: 0.9655\n",
      "Epoch 7/20\n",
      "17/17 [==============================] - 144s 8s/step - loss: 0.0205 - accuracy: 1.0000 - val_loss: 0.0317 - val_accuracy: 0.9885\n",
      "Epoch 8/20\n",
      "17/17 [==============================] - 148s 9s/step - loss: 0.0143 - accuracy: 1.0000 - val_loss: 0.0340 - val_accuracy: 1.0000\n",
      "Epoch 9/20\n",
      "17/17 [==============================] - 145s 9s/step - loss: 0.0130 - accuracy: 1.0000 - val_loss: 0.0298 - val_accuracy: 1.0000\n",
      "Epoch 10/20\n",
      "17/17 [==============================] - 144s 8s/step - loss: 0.0125 - accuracy: 0.9981 - val_loss: 0.0272 - val_accuracy: 0.9885\n",
      "Epoch 11/20\n",
      "17/17 [==============================] - 146s 9s/step - loss: 0.0099 - accuracy: 1.0000 - val_loss: 0.0333 - val_accuracy: 0.9885\n",
      "Epoch 12/20\n",
      "17/17 [==============================] - 147s 9s/step - loss: 0.0081 - accuracy: 1.0000 - val_loss: 0.0250 - val_accuracy: 0.9885\n",
      "Epoch 13/20\n",
      "17/17 [==============================] - 140s 8s/step - loss: 0.0082 - accuracy: 1.0000 - val_loss: 0.0312 - val_accuracy: 0.9885\n",
      "Epoch 14/20\n",
      "17/17 [==============================] - 140s 8s/step - loss: 0.0065 - accuracy: 1.0000 - val_loss: 0.0331 - val_accuracy: 0.9885\n",
      "Epoch 15/20\n",
      "17/17 [==============================] - 141s 8s/step - loss: 0.0059 - accuracy: 1.0000 - val_loss: 0.0282 - val_accuracy: 0.9885\n",
      "Epoch 16/20\n",
      "17/17 [==============================] - 140s 8s/step - loss: 0.0050 - accuracy: 1.0000 - val_loss: 0.0288 - val_accuracy: 0.9885\n",
      "Epoch 17/20\n",
      "17/17 [==============================] - 140s 8s/step - loss: 0.0051 - accuracy: 1.0000 - val_loss: 0.0276 - val_accuracy: 0.9885\n",
      "Epoch 18/20\n",
      "17/17 [==============================] - 140s 8s/step - loss: 0.0042 - accuracy: 1.0000 - val_loss: 0.0283 - val_accuracy: 1.0000\n",
      "Epoch 19/20\n",
      "17/17 [==============================] - 140s 8s/step - loss: 0.0045 - accuracy: 1.0000 - val_loss: 0.0273 - val_accuracy: 0.9885\n",
      "Epoch 20/20\n",
      "17/17 [==============================] - 140s 8s/step - loss: 0.0039 - accuracy: 1.0000 - val_loss: 0.0278 - val_accuracy: 0.9885\n"
     ]
    }
   ],
   "source": [
    "model1 = model.fit(train_set,validation_data=test_set,shuffle=True,epochs=20,steps_per_epoch=len(train_set),\n",
    "  validation_steps=len(test_set))"
   ]
  },
  {
   "cell_type": "code",
   "execution_count": 45,
   "metadata": {},
   "outputs": [],
   "source": [
    "from tensorflow.keras.models import load_model\n",
    "\n",
    "model.save(\"country_20_epoch.h5\")"
   ]
  },
  {
   "cell_type": "code",
   "execution_count": 46,
   "metadata": {},
   "outputs": [],
   "source": [
    "from keras.preprocessing.image import load_img\n",
    "\n",
    "def preprocess_img(img):\n",
    "    img=image.load_img(img,target_size=(224,224))    \n",
    "    img=image.img_to_array(img)\n",
    "    img=np.expand_dims(img,axis=0)\n",
    "    img=preprocess_input(img)\n",
    "    return img"
   ]
  },
  {
   "cell_type": "code",
   "execution_count": 54,
   "metadata": {},
   "outputs": [
    {
     "name": "stdout",
     "output_type": "stream",
     "text": [
      "[[0.000000e+00 9.999994e-01 5.996217e-07]]\n",
      "1\n"
     ]
    }
   ],
   "source": [
    "img=preprocess_img(\"C:/Users/ADMIN/Desktop/country detection currency/Testing/Singapore/75.jpg\")\n",
    "\n",
    "label=model.predict(img)\n",
    "print(label)\n",
    "print(label.argmax())"
   ]
  },
  {
   "cell_type": "code",
   "execution_count": 49,
   "metadata": {},
   "outputs": [
    {
     "data": {
      "text/plain": [
       "['C:/Users/ADMIN/Desktop/country detection currency/Training\\\\India',\n",
       " 'C:/Users/ADMIN/Desktop/country detection currency/Training\\\\Singapore',\n",
       " 'C:/Users/ADMIN/Desktop/country detection currency/Training\\\\USA']"
      ]
     },
     "execution_count": 49,
     "metadata": {},
     "output_type": "execute_result"
    }
   ],
   "source": [
    "from glob import glob\n",
    "\n",
    "folder_train = glob('C:/Users/ADMIN/Desktop/country detection currency/Training/*')\n",
    "folder_train"
   ]
  },
  {
   "cell_type": "code",
   "execution_count": 50,
   "metadata": {},
   "outputs": [
    {
     "data": {
      "text/plain": [
       "['C:/Users/ADMIN/Desktop/country detection currency/Testing\\\\India',\n",
       " 'C:/Users/ADMIN/Desktop/country detection currency/Testing\\\\Singapore',\n",
       " 'C:/Users/ADMIN/Desktop/country detection currency/Testing\\\\USA']"
      ]
     },
     "execution_count": 50,
     "metadata": {},
     "output_type": "execute_result"
    }
   ],
   "source": [
    "folder_test = glob('C:/Users/ADMIN/Desktop/country detection currency/Testing/*')\n",
    "folder_test"
   ]
  },
  {
   "cell_type": "code",
   "execution_count": null,
   "metadata": {},
   "outputs": [],
   "source": []
  }
 ],
 "metadata": {
  "kernelspec": {
   "display_name": "Python 3",
   "language": "python",
   "name": "python3"
  },
  "language_info": {
   "codemirror_mode": {
    "name": "ipython",
    "version": 3
   },
   "file_extension": ".py",
   "mimetype": "text/x-python",
   "name": "python",
   "nbconvert_exporter": "python",
   "pygments_lexer": "ipython3",
   "version": "3.6.10"
  }
 },
 "nbformat": 4,
 "nbformat_minor": 4
}
