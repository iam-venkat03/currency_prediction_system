{
 "cells": [
  {
   "cell_type": "code",
   "execution_count": 5,
   "metadata": {
    "colab": {},
    "colab_type": "code",
    "id": "0SJ0c7y_2CJa"
   },
   "outputs": [],
   "source": [
    "from keras.layers import Input,Lambda,Dense,Flatten\n",
    "from keras.models import Model,Sequential,load_model\n",
    "from keras.applications.vgg16 import VGG16 ,preprocess_input\n",
    "from keras.preprocessing import image\n",
    "from keras.preprocessing.image import ImageDataGenerator\n",
    "from glob import glob\n",
    "import numpy as np\n",
    "import pandas as pd\n",
    "import tensorflow as tf"
   ]
  },
  {
   "cell_type": "code",
   "execution_count": 6,
   "metadata": {
    "colab": {},
    "colab_type": "code",
    "id": "5yZDqeaC2huu"
   },
   "outputs": [],
   "source": [
    "Image_size=[224,224]\n",
    "\n",
    "train_path='C:/Users/ADMIN/Desktop/currency_project/final folder/training'\n",
    "test_path='C:/Users/ADMIN/Desktop/currency_project/final folder/validation'"
   ]
  },
  {
   "cell_type": "code",
   "execution_count": 7,
   "metadata": {
    "colab": {
     "base_uri": "https://localhost:8080/",
     "height": 71
    },
    "colab_type": "code",
    "executionInfo": {
     "elapsed": 9176,
     "status": "ok",
     "timestamp": 1597080386714,
     "user": {
      "displayName": "Venkatesha Prasad",
      "photoUrl": "https://lh3.googleusercontent.com/a-/AOh14GgtC4YYCexvm4cMBi5m7s3_9wJHGR806xobTO7fgA=s64",
      "userId": "14888426520571873226"
     },
     "user_tz": -330
    },
    "id": "wNXD9Oko2uxC",
    "outputId": "042c2da1-28cf-4972-b6e0-e3ae157bbd01"
   },
   "outputs": [],
   "source": [
    "vgg = VGG16(input_shape=Image_size+[3],weights='imagenet',include_top=False)\n",
    "\n",
    "for layer in vgg.layers:\n",
    "    layer.trainable=False\n",
    "\n",
    "\n",
    "\n",
    "x=Flatten()(vgg.output)\n",
    "\n",
    "prediction = Dense(11,activation='softmax')(x)"
   ]
  },
  {
   "cell_type": "code",
   "execution_count": 8,
   "metadata": {
    "colab": {
     "base_uri": "https://localhost:8080/",
     "height": 935
    },
    "colab_type": "code",
    "executionInfo": {
     "elapsed": 1255,
     "status": "ok",
     "timestamp": 1597080392037,
     "user": {
      "displayName": "Venkatesha Prasad",
      "photoUrl": "https://lh3.googleusercontent.com/a-/AOh14GgtC4YYCexvm4cMBi5m7s3_9wJHGR806xobTO7fgA=s64",
      "userId": "14888426520571873226"
     },
     "user_tz": -330
    },
    "id": "QLM59b4620gM",
    "outputId": "c3d7b352-2b39-4f09-91c7-c31b14142b03"
   },
   "outputs": [
    {
     "name": "stdout",
     "output_type": "stream",
     "text": [
      "Model: \"model\"\n",
      "_________________________________________________________________\n",
      "Layer (type)                 Output Shape              Param #   \n",
      "=================================================================\n",
      "input_1 (InputLayer)         [(None, 224, 224, 3)]     0         \n",
      "_________________________________________________________________\n",
      "block1_conv1 (Conv2D)        (None, 224, 224, 64)      1792      \n",
      "_________________________________________________________________\n",
      "block1_conv2 (Conv2D)        (None, 224, 224, 64)      36928     \n",
      "_________________________________________________________________\n",
      "block1_pool (MaxPooling2D)   (None, 112, 112, 64)      0         \n",
      "_________________________________________________________________\n",
      "block2_conv1 (Conv2D)        (None, 112, 112, 128)     73856     \n",
      "_________________________________________________________________\n",
      "block2_conv2 (Conv2D)        (None, 112, 112, 128)     147584    \n",
      "_________________________________________________________________\n",
      "block2_pool (MaxPooling2D)   (None, 56, 56, 128)       0         \n",
      "_________________________________________________________________\n",
      "block3_conv1 (Conv2D)        (None, 56, 56, 256)       295168    \n",
      "_________________________________________________________________\n",
      "block3_conv2 (Conv2D)        (None, 56, 56, 256)       590080    \n",
      "_________________________________________________________________\n",
      "block3_conv3 (Conv2D)        (None, 56, 56, 256)       590080    \n",
      "_________________________________________________________________\n",
      "block3_pool (MaxPooling2D)   (None, 28, 28, 256)       0         \n",
      "_________________________________________________________________\n",
      "block4_conv1 (Conv2D)        (None, 28, 28, 512)       1180160   \n",
      "_________________________________________________________________\n",
      "block4_conv2 (Conv2D)        (None, 28, 28, 512)       2359808   \n",
      "_________________________________________________________________\n",
      "block4_conv3 (Conv2D)        (None, 28, 28, 512)       2359808   \n",
      "_________________________________________________________________\n",
      "block4_pool (MaxPooling2D)   (None, 14, 14, 512)       0         \n",
      "_________________________________________________________________\n",
      "block5_conv1 (Conv2D)        (None, 14, 14, 512)       2359808   \n",
      "_________________________________________________________________\n",
      "block5_conv2 (Conv2D)        (None, 14, 14, 512)       2359808   \n",
      "_________________________________________________________________\n",
      "block5_conv3 (Conv2D)        (None, 14, 14, 512)       2359808   \n",
      "_________________________________________________________________\n",
      "block5_pool (MaxPooling2D)   (None, 7, 7, 512)         0         \n",
      "_________________________________________________________________\n",
      "flatten (Flatten)            (None, 25088)             0         \n",
      "_________________________________________________________________\n",
      "dense (Dense)                (None, 11)                275979    \n",
      "=================================================================\n",
      "Total params: 14,990,667\n",
      "Trainable params: 275,979\n",
      "Non-trainable params: 14,714,688\n",
      "_________________________________________________________________\n"
     ]
    }
   ],
   "source": [
    "model=Model(inputs=vgg.input,outputs=prediction)\n",
    "\n",
    "model.summary()\n",
    "\n",
    "model.compile(\n",
    "loss='categorical_crossentropy',\n",
    "optimizer='adam',\n",
    "metrics=['accuracy']\n",
    ")"
   ]
  },
  {
   "cell_type": "code",
   "execution_count": 6,
   "metadata": {
    "colab": {},
    "colab_type": "code",
    "id": "WG77oApk287U"
   },
   "outputs": [],
   "source": [
    "train_datagen=ImageDataGenerator(rescale=1./255,\n",
    "                                shear_range=.2,\n",
    "                                zoom_range=.1,\n",
    "                                 horizontal_flip=True\n",
    "                                )\n",
    "test_datagen=ImageDataGenerator(rescale=1./255)"
   ]
  },
  {
   "cell_type": "code",
   "execution_count": 7,
   "metadata": {
    "colab": {
     "base_uri": "https://localhost:8080/",
     "height": 51
    },
    "colab_type": "code",
    "executionInfo": {
     "elapsed": 4958,
     "status": "ok",
     "timestamp": 1597080405378,
     "user": {
      "displayName": "Venkatesha Prasad",
      "photoUrl": "https://lh3.googleusercontent.com/a-/AOh14GgtC4YYCexvm4cMBi5m7s3_9wJHGR806xobTO7fgA=s64",
      "userId": "14888426520571873226"
     },
     "user_tz": -330
    },
    "id": "hTIVoMAJ2_mm",
    "outputId": "ee076bb4-e1be-4105-a492-aade57896ded"
   },
   "outputs": [
    {
     "name": "stdout",
     "output_type": "stream",
     "text": [
      "Found 1348 images belonging to 11 classes.\n",
      "Found 237 images belonging to 11 classes.\n"
     ]
    }
   ],
   "source": [
    "train_set=train_datagen.flow_from_directory(train_path,\n",
    "                                            target_size = (224, 224),\n",
    "                                            batch_size = 32,\n",
    "                                            class_mode = 'categorical')\n",
    "\n",
    "test_set=test_datagen.flow_from_directory(test_path,\n",
    "                                            target_size = (224, 224),\n",
    "                                            batch_size = 32,\n",
    "                                            class_mode = 'categorical')"
   ]
  },
  {
   "cell_type": "code",
   "execution_count": 8,
   "metadata": {
    "colab": {
     "base_uri": "https://localhost:8080/",
     "height": 377
    },
    "colab_type": "code",
    "executionInfo": {
     "elapsed": 945843,
     "status": "ok",
     "timestamp": 1597081534116,
     "user": {
      "displayName": "Venkatesha Prasad",
      "photoUrl": "https://lh3.googleusercontent.com/a-/AOh14GgtC4YYCexvm4cMBi5m7s3_9wJHGR806xobTO7fgA=s64",
      "userId": "14888426520571873226"
     },
     "user_tz": -330
    },
    "id": "3_DxRsTs3B0o",
    "outputId": "cbbba527-d37e-486d-d47b-9cb3da93be99"
   },
   "outputs": [
    {
     "name": "stdout",
     "output_type": "stream",
     "text": [
      "Epoch 1/30\n",
      "43/43 [==============================] - 393s 9s/step - loss: 2.0141 - accuracy: 0.3887 - val_loss: 1.1037 - val_accuracy: 0.6540\n",
      "Epoch 2/30\n",
      "43/43 [==============================] - 415s 10s/step - loss: 0.7786 - accuracy: 0.7604 - val_loss: 0.8991 - val_accuracy: 0.6962\n",
      "Epoch 3/30\n",
      "43/43 [==============================] - 403s 9s/step - loss: 0.5356 - accuracy: 0.8494 - val_loss: 0.6187 - val_accuracy: 0.8143\n",
      "Epoch 4/30\n",
      "43/43 [==============================] - 405s 9s/step - loss: 0.3420 - accuracy: 0.9080 - val_loss: 0.4395 - val_accuracy: 0.8861\n",
      "Epoch 5/30\n",
      "43/43 [==============================] - 419s 10s/step - loss: 0.2838 - accuracy: 0.9288 - val_loss: 0.4307 - val_accuracy: 0.8903\n",
      "Epoch 6/30\n",
      "43/43 [==============================] - 410s 10s/step - loss: 0.1610 - accuracy: 0.9733 - val_loss: 0.3698 - val_accuracy: 0.9198\n",
      "Epoch 7/30\n",
      "43/43 [==============================] - 424s 10s/step - loss: 0.1455 - accuracy: 0.9785 - val_loss: 0.3132 - val_accuracy: 0.9409\n",
      "Epoch 8/30\n",
      "43/43 [==============================] - 418s 10s/step - loss: 0.1266 - accuracy: 0.9800 - val_loss: 0.3151 - val_accuracy: 0.9367\n",
      "Epoch 9/30\n",
      "43/43 [==============================] - 414s 10s/step - loss: 0.1094 - accuracy: 0.9770 - val_loss: 0.2763 - val_accuracy: 0.9367\n",
      "Epoch 10/30\n",
      "43/43 [==============================] - 373s 9s/step - loss: 0.0696 - accuracy: 0.9918 - val_loss: 0.3092 - val_accuracy: 0.9409\n",
      "Epoch 11/30\n",
      "43/43 [==============================] - 363s 8s/step - loss: 0.0704 - accuracy: 0.9911 - val_loss: 0.2827 - val_accuracy: 0.9451\n",
      "Epoch 12/30\n",
      "43/43 [==============================] - 365s 8s/step - loss: 0.0535 - accuracy: 0.9948 - val_loss: 0.3061 - val_accuracy: 0.9409\n",
      "Epoch 13/30\n",
      "43/43 [==============================] - 361s 8s/step - loss: 0.0503 - accuracy: 0.9918 - val_loss: 0.2508 - val_accuracy: 0.9494\n",
      "Epoch 14/30\n",
      "43/43 [==============================] - 362s 8s/step - loss: 0.0517 - accuracy: 0.9933 - val_loss: 0.2564 - val_accuracy: 0.9578\n",
      "Epoch 15/30\n",
      "43/43 [==============================] - 360s 8s/step - loss: 0.0476 - accuracy: 0.9941 - val_loss: 0.2415 - val_accuracy: 0.9578\n",
      "Epoch 16/30\n",
      "43/43 [==============================] - 360s 8s/step - loss: 0.0409 - accuracy: 0.9941 - val_loss: 0.2696 - val_accuracy: 0.9536\n",
      "Epoch 17/30\n",
      "43/43 [==============================] - 361s 8s/step - loss: 0.0280 - accuracy: 0.9993 - val_loss: 0.2305 - val_accuracy: 0.9578\n",
      "Epoch 18/30\n",
      "43/43 [==============================] - 362s 8s/step - loss: 0.0293 - accuracy: 0.9963 - val_loss: 0.2084 - val_accuracy: 0.9620\n",
      "Epoch 19/30\n",
      "43/43 [==============================] - 366s 9s/step - loss: 0.0239 - accuracy: 0.9978 - val_loss: 0.2245 - val_accuracy: 0.9578\n",
      "Epoch 20/30\n",
      "43/43 [==============================] - 393s 9s/step - loss: 0.0218 - accuracy: 0.9993 - val_loss: 0.2180 - val_accuracy: 0.9662\n",
      "Epoch 21/30\n",
      "43/43 [==============================] - 394s 9s/step - loss: 0.0214 - accuracy: 0.9985 - val_loss: 0.2274 - val_accuracy: 0.9620\n",
      "Epoch 22/30\n",
      "43/43 [==============================] - 393s 9s/step - loss: 0.0255 - accuracy: 0.9970 - val_loss: 0.2310 - val_accuracy: 0.9578\n",
      "Epoch 23/30\n",
      "43/43 [==============================] - 399s 9s/step - loss: 0.0193 - accuracy: 0.9985 - val_loss: 0.2364 - val_accuracy: 0.9662\n",
      "Epoch 24/30\n",
      "43/43 [==============================] - 387s 9s/step - loss: 0.0260 - accuracy: 0.9948 - val_loss: 0.2247 - val_accuracy: 0.9536\n",
      "Epoch 25/30\n",
      "43/43 [==============================] - 378s 9s/step - loss: 0.0247 - accuracy: 0.9970 - val_loss: 0.2514 - val_accuracy: 0.9578\n",
      "Epoch 26/30\n",
      "43/43 [==============================] - 415s 10s/step - loss: 0.0217 - accuracy: 0.9970 - val_loss: 0.2300 - val_accuracy: 0.9578\n",
      "Epoch 27/30\n",
      "43/43 [==============================] - 425s 10s/step - loss: 0.0185 - accuracy: 0.9985 - val_loss: 0.2509 - val_accuracy: 0.9536\n",
      "Epoch 28/30\n",
      "43/43 [==============================] - 395s 9s/step - loss: 0.0183 - accuracy: 0.9970 - val_loss: 0.2222 - val_accuracy: 0.9578\n",
      "Epoch 29/30\n",
      "43/43 [==============================] - 376s 9s/step - loss: 0.0176 - accuracy: 0.9970 - val_loss: 0.2572 - val_accuracy: 0.9536\n",
      "Epoch 30/30\n",
      "43/43 [==============================] - 374s 9s/step - loss: 0.0265 - accuracy: 0.9955 - val_loss: 0.2205 - val_accuracy: 0.9578\n"
     ]
    }
   ],
   "source": [
    "model1 = model.fit(train_set,validation_data=test_set,shuffle=True,epochs=30,steps_per_epoch=len(train_set),\n",
    "  validation_steps=len(test_set))"
   ]
  },
  {
   "cell_type": "code",
   "execution_count": 9,
   "metadata": {
    "scrolled": false
   },
   "outputs": [],
   "source": [
    "from tensorflow.keras.models import load_model\n",
    "\n",
    "model.save(\"model_30_epoch.h5\")"
   ]
  },
  {
   "cell_type": "code",
   "execution_count": 12,
   "metadata": {
    "colab": {
     "base_uri": "https://localhost:8080/",
     "height": 51
    },
    "colab_type": "code",
    "executionInfo": {
     "elapsed": 1067,
     "status": "ok",
     "timestamp": 1597081909429,
     "user": {
      "displayName": "Venkatesha Prasad",
      "photoUrl": "https://lh3.googleusercontent.com/a-/AOh14GgtC4YYCexvm4cMBi5m7s3_9wJHGR806xobTO7fgA=s64",
      "userId": "14888426520571873226"
     },
     "user_tz": -330
    },
    "id": "z6xuVEo73FQ3",
    "outputId": "4b368ebf-3ca1-47e7-fb77-0f97645113c4"
   },
   "outputs": [
    {
     "name": "stdout",
     "output_type": "stream",
     "text": [
      "[[0. 0. 0. 0. 0. 0. 0. 0. 0. 1. 0.]]\n",
      "9\n"
     ]
    }
   ],
   "source": [
    "from keras.preprocessing.image import load_img\n",
    "\n",
    "def preprocess_img(img):\n",
    "    \n",
    "    img=image.load_img(img,target_size=(224,224))\n",
    "    \n",
    "    img=image.img_to_array(img)\n",
    "    \n",
    "    img=np.expand_dims(img,axis=0)\n",
    "    \n",
    "    # normalisation\n",
    "    \n",
    "    img=preprocess_input(img)\n",
    "    \n",
    "    return img\n",
    "\n",
    "img=preprocess_img('C:/Users/ADMIN/Desktop/currency_project/final folder/training/10/1.jpg')\n",
    "\n",
    "label=model.predict(img)\n",
    "print(label)\n",
    "print(label.argmax())"
   ]
  },
  {
   "cell_type": "code",
   "execution_count": 22,
   "metadata": {
    "colab": {},
    "colab_type": "code",
    "id": "lvjwbZ0bh1mL"
   },
   "outputs": [
    {
     "data": {
      "text/plain": [
       "['C:/Users/ADMIN/Desktop/currency_project/final folder/training\\\\1',\n",
       " 'C:/Users/ADMIN/Desktop/currency_project/final folder/training\\\\10',\n",
       " 'C:/Users/ADMIN/Desktop/currency_project/final folder/training\\\\100',\n",
       " 'C:/Users/ADMIN/Desktop/currency_project/final folder/training\\\\1000',\n",
       " 'C:/Users/ADMIN/Desktop/currency_project/final folder/training\\\\2',\n",
       " 'C:/Users/ADMIN/Desktop/currency_project/final folder/training\\\\20',\n",
       " 'C:/Users/ADMIN/Desktop/currency_project/final folder/training\\\\200',\n",
       " 'C:/Users/ADMIN/Desktop/currency_project/final folder/training\\\\2000',\n",
       " 'C:/Users/ADMIN/Desktop/currency_project/final folder/training\\\\5',\n",
       " 'C:/Users/ADMIN/Desktop/currency_project/final folder/training\\\\50',\n",
       " 'C:/Users/ADMIN/Desktop/currency_project/final folder/training\\\\500']"
      ]
     },
     "execution_count": 22,
     "metadata": {},
     "output_type": "execute_result"
    }
   ],
   "source": [
    "from glob import glob\n",
    "folders_train= glob('C:/Users/ADMIN/Desktop/currency_project/final folder/training/*')\n",
    "folders_train"
   ]
  },
  {
   "cell_type": "code",
   "execution_count": 26,
   "metadata": {
    "colab": {},
    "colab_type": "code",
    "id": "X6umtrCIiS6W"
   },
   "outputs": [
    {
     "data": {
      "text/plain": [
       "['C:/Users/ADMIN/Desktop/currency_project/final folder/validation\\\\1',\n",
       " 'C:/Users/ADMIN/Desktop/currency_project/final folder/validation\\\\10',\n",
       " 'C:/Users/ADMIN/Desktop/currency_project/final folder/validation\\\\100',\n",
       " 'C:/Users/ADMIN/Desktop/currency_project/final folder/validation\\\\1000',\n",
       " 'C:/Users/ADMIN/Desktop/currency_project/final folder/validation\\\\2',\n",
       " 'C:/Users/ADMIN/Desktop/currency_project/final folder/validation\\\\20',\n",
       " 'C:/Users/ADMIN/Desktop/currency_project/final folder/validation\\\\200',\n",
       " 'C:/Users/ADMIN/Desktop/currency_project/final folder/validation\\\\2000',\n",
       " 'C:/Users/ADMIN/Desktop/currency_project/final folder/validation\\\\5',\n",
       " 'C:/Users/ADMIN/Desktop/currency_project/final folder/validation\\\\50',\n",
       " 'C:/Users/ADMIN/Desktop/currency_project/final folder/validation\\\\500']"
      ]
     },
     "execution_count": 26,
     "metadata": {},
     "output_type": "execute_result"
    }
   ],
   "source": [
    "folders_valid= glob('C:/Users/ADMIN/Desktop/currency_project/final folder/validation/*')\n",
    "folders_valid"
   ]
  },
  {
   "cell_type": "code",
   "execution_count": null,
   "metadata": {},
   "outputs": [],
   "source": []
  }
 ],
 "metadata": {
  "accelerator": "GPU",
  "colab": {
   "collapsed_sections": [],
   "name": "currency_recognition.ipynb",
   "provenance": []
  },
  "kernelspec": {
   "display_name": "Python 3",
   "language": "python",
   "name": "python3"
  },
  "language_info": {
   "codemirror_mode": {
    "name": "ipython",
    "version": 3
   },
   "file_extension": ".py",
   "mimetype": "text/x-python",
   "name": "python",
   "nbconvert_exporter": "python",
   "pygments_lexer": "ipython3",
   "version": "3.6.10"
  }
 },
 "nbformat": 4,
 "nbformat_minor": 1
}
