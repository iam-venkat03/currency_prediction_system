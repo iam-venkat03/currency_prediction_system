{
 "cells": [
  {
   "cell_type": "code",
   "execution_count": 1,
   "metadata": {},
   "outputs": [],
   "source": [
    "from keras.layers import Input,Lambda,Dense,Flatten\n",
    "from keras.models import Model,Sequential,load_model\n",
    "from keras.applications.vgg16 import VGG16 ,preprocess_input\n",
    "from keras.preprocessing import image\n",
    "from keras.preprocessing.image import ImageDataGenerator\n",
    "from glob import glob\n",
    "import numpy as np\n",
    "import pandas as pd\n",
    "import tensorflow as tf"
   ]
  },
  {
   "cell_type": "code",
   "execution_count": 2,
   "metadata": {},
   "outputs": [],
   "source": [
    "Image_size=[224,224]\n",
    "\n",
    "train_path='C:/Users/ADMIN/Desktop/country detection currency/Training'\n",
    "test_path= 'C:/Users/ADMIN/Desktop/country detection currency/Testing'"
   ]
  },
  {
   "cell_type": "code",
   "execution_count": 3,
   "metadata": {},
   "outputs": [
    {
     "data": {
      "text/plain": [
       "['C:/Users/ADMIN/Desktop/country detection currency/Training\\\\India',\n",
       " 'C:/Users/ADMIN/Desktop/country detection currency/Training\\\\Singapore',\n",
       " 'C:/Users/ADMIN/Desktop/country detection currency/Training\\\\USA']"
      ]
     },
     "execution_count": 3,
     "metadata": {},
     "output_type": "execute_result"
    }
   ],
   "source": [
    "from glob import glob\n",
    "\n",
    "folder_train = glob('C:/Users/ADMIN/Desktop/country detection currency/Training/*')\n",
    "folder_train"
   ]
  },
  {
   "cell_type": "code",
   "execution_count": 4,
   "metadata": {},
   "outputs": [
    {
     "data": {
      "text/plain": [
       "['C:/Users/ADMIN/Desktop/country detection currency/Testing\\\\India',\n",
       " 'C:/Users/ADMIN/Desktop/country detection currency/Testing\\\\Singapore',\n",
       " 'C:/Users/ADMIN/Desktop/country detection currency/Testing\\\\USA']"
      ]
     },
     "execution_count": 4,
     "metadata": {},
     "output_type": "execute_result"
    }
   ],
   "source": [
    "folder_test = glob('C:/Users/ADMIN/Desktop/country detection currency/Testing/*')\n",
    "folder_test"
   ]
  },
  {
   "cell_type": "code",
   "execution_count": 5,
   "metadata": {},
   "outputs": [],
   "source": [
    "vgg = VGG16(input_shape=Image_size+[3],weights='imagenet',include_top=False)\n",
    "\n",
    "for layer in vgg.layers:\n",
    "    layer.trainable=False\n",
    "\n",
    "x=Flatten()(vgg.output)\n",
    "prediction = Dense(3,activation='softmax')(x)"
   ]
  },
  {
   "cell_type": "code",
   "execution_count": 6,
   "metadata": {},
   "outputs": [
    {
     "name": "stdout",
     "output_type": "stream",
     "text": [
      "Model: \"model\"\n",
      "_________________________________________________________________\n",
      "Layer (type)                 Output Shape              Param #   \n",
      "=================================================================\n",
      "input_1 (InputLayer)         [(None, 224, 224, 3)]     0         \n",
      "_________________________________________________________________\n",
      "block1_conv1 (Conv2D)        (None, 224, 224, 64)      1792      \n",
      "_________________________________________________________________\n",
      "block1_conv2 (Conv2D)        (None, 224, 224, 64)      36928     \n",
      "_________________________________________________________________\n",
      "block1_pool (MaxPooling2D)   (None, 112, 112, 64)      0         \n",
      "_________________________________________________________________\n",
      "block2_conv1 (Conv2D)        (None, 112, 112, 128)     73856     \n",
      "_________________________________________________________________\n",
      "block2_conv2 (Conv2D)        (None, 112, 112, 128)     147584    \n",
      "_________________________________________________________________\n",
      "block2_pool (MaxPooling2D)   (None, 56, 56, 128)       0         \n",
      "_________________________________________________________________\n",
      "block3_conv1 (Conv2D)        (None, 56, 56, 256)       295168    \n",
      "_________________________________________________________________\n",
      "block3_conv2 (Conv2D)        (None, 56, 56, 256)       590080    \n",
      "_________________________________________________________________\n",
      "block3_conv3 (Conv2D)        (None, 56, 56, 256)       590080    \n",
      "_________________________________________________________________\n",
      "block3_pool (MaxPooling2D)   (None, 28, 28, 256)       0         \n",
      "_________________________________________________________________\n",
      "block4_conv1 (Conv2D)        (None, 28, 28, 512)       1180160   \n",
      "_________________________________________________________________\n",
      "block4_conv2 (Conv2D)        (None, 28, 28, 512)       2359808   \n",
      "_________________________________________________________________\n",
      "block4_conv3 (Conv2D)        (None, 28, 28, 512)       2359808   \n",
      "_________________________________________________________________\n",
      "block4_pool (MaxPooling2D)   (None, 14, 14, 512)       0         \n",
      "_________________________________________________________________\n",
      "block5_conv1 (Conv2D)        (None, 14, 14, 512)       2359808   \n",
      "_________________________________________________________________\n",
      "block5_conv2 (Conv2D)        (None, 14, 14, 512)       2359808   \n",
      "_________________________________________________________________\n",
      "block5_conv3 (Conv2D)        (None, 14, 14, 512)       2359808   \n",
      "_________________________________________________________________\n",
      "block5_pool (MaxPooling2D)   (None, 7, 7, 512)         0         \n",
      "_________________________________________________________________\n",
      "flatten (Flatten)            (None, 25088)             0         \n",
      "_________________________________________________________________\n",
      "dense (Dense)                (None, 3)                 75267     \n",
      "=================================================================\n",
      "Total params: 14,789,955\n",
      "Trainable params: 75,267\n",
      "Non-trainable params: 14,714,688\n",
      "_________________________________________________________________\n"
     ]
    }
   ],
   "source": [
    "model=Model(inputs=vgg.input,outputs=prediction)\n",
    "\n",
    "model.summary()\n",
    "\n",
    "model.compile(\n",
    "loss='categorical_crossentropy',\n",
    "optimizer='adam',\n",
    "metrics=['accuracy']\n",
    ")"
   ]
  },
  {
   "cell_type": "code",
   "execution_count": 7,
   "metadata": {},
   "outputs": [],
   "source": [
    "train_datagen=ImageDataGenerator(rescale=1./255,\n",
    "                                shear_range=.2,\n",
    "                                zoom_range=.1,\n",
    "                                 horizontal_flip=True\n",
    "                                )\n",
    "test_datagen=ImageDataGenerator(rescale=1./255)"
   ]
  },
  {
   "cell_type": "code",
   "execution_count": 8,
   "metadata": {},
   "outputs": [
    {
     "name": "stdout",
     "output_type": "stream",
     "text": [
      "Found 991 images belonging to 3 classes.\n",
      "Found 87 images belonging to 3 classes.\n"
     ]
    }
   ],
   "source": [
    "train_set=train_datagen.flow_from_directory(train_path,\n",
    "                                            target_size = (224, 224),\n",
    "                                            batch_size = 32,\n",
    "                                            class_mode = 'categorical')\n",
    "\n",
    "test_set=test_datagen.flow_from_directory(test_path,\n",
    "                                            target_size = (224, 224),\n",
    "                                            batch_size = 32,\n",
    "                                            class_mode = 'categorical')"
   ]
  },
  {
   "cell_type": "code",
   "execution_count": 9,
   "metadata": {},
   "outputs": [
    {
     "name": "stdout",
     "output_type": "stream",
     "text": [
      "Epoch 1/35\n",
      "31/31 [==============================] - 249s 8s/step - loss: 0.8221 - accuracy: 0.6821 - val_loss: 0.2124 - val_accuracy: 0.9195\n",
      "Epoch 2/35\n",
      "31/31 [==============================] - 262s 8s/step - loss: 0.1317 - accuracy: 0.9667 - val_loss: 0.1254 - val_accuracy: 0.9770\n",
      "Epoch 3/35\n",
      "31/31 [==============================] - 263s 8s/step - loss: 0.0681 - accuracy: 0.9889 - val_loss: 0.1058 - val_accuracy: 0.9770\n",
      "Epoch 4/35\n",
      "31/31 [==============================] - 269s 9s/step - loss: 0.0495 - accuracy: 0.9929 - val_loss: 0.0771 - val_accuracy: 0.9885\n",
      "Epoch 5/35\n",
      "31/31 [==============================] - 259s 8s/step - loss: 0.0353 - accuracy: 0.9970 - val_loss: 0.0634 - val_accuracy: 0.9885\n",
      "Epoch 6/35\n",
      "31/31 [==============================] - 254s 8s/step - loss: 0.0266 - accuracy: 0.9990 - val_loss: 0.0843 - val_accuracy: 0.9770\n",
      "Epoch 7/35\n",
      "31/31 [==============================] - 253s 8s/step - loss: 0.0187 - accuracy: 1.0000 - val_loss: 0.0633 - val_accuracy: 0.9885\n",
      "Epoch 8/35\n",
      "31/31 [==============================] - 255s 8s/step - loss: 0.0152 - accuracy: 1.0000 - val_loss: 0.0674 - val_accuracy: 0.9885\n",
      "Epoch 9/35\n",
      "31/31 [==============================] - 253s 8s/step - loss: 0.0138 - accuracy: 1.0000 - val_loss: 0.0608 - val_accuracy: 0.9885\n",
      "Epoch 10/35\n",
      "31/31 [==============================] - 254s 8s/step - loss: 0.0118 - accuracy: 1.0000 - val_loss: 0.0649 - val_accuracy: 0.9885\n",
      "Epoch 11/35\n",
      "31/31 [==============================] - 254s 8s/step - loss: 0.0102 - accuracy: 1.0000 - val_loss: 0.0762 - val_accuracy: 0.9885\n",
      "Epoch 12/35\n",
      "31/31 [==============================] - 254s 8s/step - loss: 0.0080 - accuracy: 1.0000 - val_loss: 0.0721 - val_accuracy: 0.9885\n",
      "Epoch 13/35\n",
      "31/31 [==============================] - 255s 8s/step - loss: 0.0083 - accuracy: 1.0000 - val_loss: 0.0589 - val_accuracy: 0.9885\n",
      "Epoch 14/35\n",
      "31/31 [==============================] - 253s 8s/step - loss: 0.0074 - accuracy: 1.0000 - val_loss: 0.0675 - val_accuracy: 0.9885\n",
      "Epoch 15/35\n",
      "31/31 [==============================] - 259s 8s/step - loss: 0.0070 - accuracy: 1.0000 - val_loss: 0.0704 - val_accuracy: 0.9885\n",
      "Epoch 16/35\n",
      "31/31 [==============================] - 257s 8s/step - loss: 0.0057 - accuracy: 1.0000 - val_loss: 0.0672 - val_accuracy: 0.9885\n",
      "Epoch 17/35\n",
      "31/31 [==============================] - 254s 8s/step - loss: 0.0053 - accuracy: 1.0000 - val_loss: 0.0653 - val_accuracy: 0.9885\n",
      "Epoch 18/35\n",
      "31/31 [==============================] - 253s 8s/step - loss: 0.0048 - accuracy: 1.0000 - val_loss: 0.0670 - val_accuracy: 0.9885\n",
      "Epoch 19/35\n",
      "31/31 [==============================] - 252s 8s/step - loss: 0.0050 - accuracy: 1.0000 - val_loss: 0.0585 - val_accuracy: 0.9885\n",
      "Epoch 20/35\n",
      "31/31 [==============================] - 251s 8s/step - loss: 0.0044 - accuracy: 1.0000 - val_loss: 0.0636 - val_accuracy: 0.9885\n",
      "Epoch 21/35\n",
      "31/31 [==============================] - 252s 8s/step - loss: 0.0037 - accuracy: 1.0000 - val_loss: 0.0658 - val_accuracy: 0.9885\n",
      "Epoch 22/35\n",
      "31/31 [==============================] - 253s 8s/step - loss: 0.0035 - accuracy: 1.0000 - val_loss: 0.0689 - val_accuracy: 0.9885\n",
      "Epoch 23/35\n",
      "31/31 [==============================] - 252s 8s/step - loss: 0.0035 - accuracy: 1.0000 - val_loss: 0.0712 - val_accuracy: 0.9885\n",
      "Epoch 24/35\n",
      "31/31 [==============================] - 252s 8s/step - loss: 0.0033 - accuracy: 1.0000 - val_loss: 0.0666 - val_accuracy: 0.9885\n",
      "Epoch 25/35\n",
      "31/31 [==============================] - 252s 8s/step - loss: 0.0030 - accuracy: 1.0000 - val_loss: 0.0627 - val_accuracy: 0.9885\n",
      "Epoch 26/35\n",
      "31/31 [==============================] - 256s 8s/step - loss: 0.0027 - accuracy: 1.0000 - val_loss: 0.0742 - val_accuracy: 0.9770\n",
      "Epoch 27/35\n",
      "31/31 [==============================] - 260s 8s/step - loss: 0.0026 - accuracy: 1.0000 - val_loss: 0.0668 - val_accuracy: 0.9885\n",
      "Epoch 28/35\n",
      "31/31 [==============================] - 257s 8s/step - loss: 0.0022 - accuracy: 1.0000 - val_loss: 0.0692 - val_accuracy: 0.9885\n",
      "Epoch 29/35\n",
      "31/31 [==============================] - 255s 8s/step - loss: 0.0024 - accuracy: 1.0000 - val_loss: 0.0690 - val_accuracy: 0.9885\n",
      "Epoch 30/35\n",
      "31/31 [==============================] - 247s 8s/step - loss: 0.0023 - accuracy: 1.0000 - val_loss: 0.0660 - val_accuracy: 0.9885\n",
      "Epoch 31/35\n",
      "31/31 [==============================] - 245s 8s/step - loss: 0.0021 - accuracy: 1.0000 - val_loss: 0.0671 - val_accuracy: 0.9885\n",
      "Epoch 32/35\n",
      "31/31 [==============================] - 245s 8s/step - loss: 0.0019 - accuracy: 1.0000 - val_loss: 0.0685 - val_accuracy: 0.9885\n",
      "Epoch 33/35\n",
      "31/31 [==============================] - 244s 8s/step - loss: 0.0018 - accuracy: 1.0000 - val_loss: 0.0640 - val_accuracy: 0.9885\n",
      "Epoch 34/35\n",
      "31/31 [==============================] - 244s 8s/step - loss: 0.0019 - accuracy: 1.0000 - val_loss: 0.0679 - val_accuracy: 0.9885\n",
      "Epoch 35/35\n",
      "31/31 [==============================] - 244s 8s/step - loss: 0.0018 - accuracy: 1.0000 - val_loss: 0.0683 - val_accuracy: 0.9885\n"
     ]
    }
   ],
   "source": [
    "model1 = model.fit(train_set,validation_data=test_set,shuffle=True,epochs=35,steps_per_epoch=len(train_set),\n",
    "  validation_steps=len(test_set))"
   ]
  },
  {
   "cell_type": "code",
   "execution_count": 10,
   "metadata": {},
   "outputs": [],
   "source": [
    "from tensorflow.keras.models import load_model\n",
    "\n",
    "model.save(\"country_35_epoch_final.h5\")"
   ]
  },
  {
   "cell_type": "code",
   "execution_count": 11,
   "metadata": {},
   "outputs": [],
   "source": [
    "from keras.preprocessing.image import load_img\n",
    "\n",
    "def preprocess_img(img):\n",
    "    img=image.load_img(img,target_size=(224,224))    \n",
    "    img=image.img_to_array(img)\n",
    "    img=np.expand_dims(img,axis=0)\n",
    "    img=preprocess_input(img)\n",
    "    return img"
   ]
  },
  {
   "cell_type": "code",
   "execution_count": 13,
   "metadata": {},
   "outputs": [
    {
     "name": "stdout",
     "output_type": "stream",
     "text": [
      "[[0. 0. 1.]]\n",
      "2\n"
     ]
    }
   ],
   "source": [
    "img=preprocess_img(\"C:/Users/ADMIN/Desktop/country detection currency/Training/USA/usa_aug_0_7431.jpeg\")\n",
    "\n",
    "label=model.predict(img)\n",
    "print(label)\n",
    "print(label.argmax())"
   ]
  },
  {
   "cell_type": "code",
   "execution_count": null,
   "metadata": {},
   "outputs": [],
   "source": []
  }
 ],
 "metadata": {
  "kernelspec": {
   "display_name": "Python 3",
   "language": "python",
   "name": "python3"
  },
  "language_info": {
   "codemirror_mode": {
    "name": "ipython",
    "version": 3
   },
   "file_extension": ".py",
   "mimetype": "text/x-python",
   "name": "python",
   "nbconvert_exporter": "python",
   "pygments_lexer": "ipython3",
   "version": "3.6.10"
  }
 },
 "nbformat": 4,
 "nbformat_minor": 4
}
